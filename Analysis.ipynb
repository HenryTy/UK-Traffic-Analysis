﻿{
  "metadata": {
    "name": "Projekt",
    "kernelspec": {
      "language": "scala",
      "name": "spark2-scala"
    },
    "language_info": {
      "codemirror_mode": "text/x-scala",
      "file_extension": ".scala",
      "mimetype": "text/x-scala",
      "name": "scala",
      "pygments_lexer": "scala"
    }
  },
  "nbformat": 4,
  "nbformat_minor": 2,
  "cells": [
    {
      "cell_type": "code",
      "execution_count": 0,
      "metadata": {
        "autoscroll": "auto"
      },
      "outputs": [],
      "source": "val timeDF \u003d spark.sql(\"SELECT * FROM time\")\r\nval vehiclesDF \u003d spark.sql(\"SELECT * FROM vehicles\")\r\nval authoritiesDF \u003d spark.sql(\"SELECT * FROM authorities\")\r\nval roadsDF \u003d spark.sql(\"SELECT * FROM roads\")\r\nval weatherDF \u003d spark.sql(\"SELECT * from weather\")\r\nval factsDF \u003d spark.sql(\"SELECT * from facts\")"
    },
    {
      "cell_type": "code",
      "execution_count": 1,
      "metadata": {
        "autoscroll": "auto"
      },
      "outputs": [],
      "source": "val task1 \u003d factsDF.\n    join(vehiclesDF, factsDF(\"vehicle_id\") \u003d\u003d\u003d vehiclesDF(\"vehicle_id\")).\n    join(timeDF, factsDF(\"time_id\") \u003d\u003d\u003d timeDF(\"time_id\")).\n    groupBy(vehiclesDF(\"category\")).\n    pivot(timeDF(\"week_day\")).\n    agg((sum(\"vehicle_count\")/count(\"vehicle_count\")).as(\"vehicles_avg\"))\ntask1.createOrReplaceTempView(\"task1\")"
    },
    {
      "cell_type": "code",
      "execution_count": 2,
      "metadata": {
        "autoscroll": "auto"
      },
      "outputs": [],
      "source": "%sql\nselect * from task1"
    },
    {
      "cell_type": "code",
      "execution_count": 3,
      "metadata": {
        "autoscroll": "auto"
      },
      "outputs": [],
      "source": "val task2 \u003d factsDF.\n    join(vehiclesDF, factsDF(\"vehicle_id\") \u003d\u003d\u003d vehiclesDF(\"vehicle_id\")).\n    join(timeDF, factsDF(\"time_id\") \u003d\u003d\u003d timeDF(\"time_id\")).\n    join(weatherDF, factsDF(\"weather_id\") \u003d\u003d\u003d weatherDF(\"weather_id\")).\n    filter(vehiclesDF(\"type\").like(\"two_wheeled_motor_vehicles\")).\n    groupBy(weatherDF(\"description\")).\n    agg((sum(\"vehicle_count\")/count(\"vehicle_count\")).as(\"motorcycle_count\")).\n    filter(weatherDF(\"description\").isNotNull).\n    orderBy($\"motorcycle_count\".desc)\ntask2.createOrReplaceTempView(\"task2\")"
    },
    {
      "cell_type": "code",
      "execution_count": 4,
      "metadata": {
        "autoscroll": "auto"
      },
      "outputs": [],
      "source": "%sql\nselect * from task2"
    },
    {
      "cell_type": "code",
      "execution_count": 5,
      "metadata": {
        "autoscroll": "auto"
      },
      "outputs": [],
      "source": "val vehicleCounts \u003d factsDF.\n    join(roadsDF, factsDF(\"road_id\") \u003d\u003d\u003d roadsDF(\"road_id\")).\n    join(timeDF, factsDF(\"time_id\") \u003d\u003d\u003d timeDF(\"time_id\")).\n    groupBy(timeDF(\"year\"), roadsDF(\"road_name\")).\n    agg((sum(\"vehicle_count\")/count(\"vehicle_count\")).as(\"vehicle_avg\"))\n    \nval vehicleCountsMaxForYear \u003d vehicleCounts.\n    groupBy(timeDF(\"year\")).\n    agg(max(\"vehicle_avg\").as(\"max_vehicle_avg\"))\n    \nval task3 \u003d vehicleCounts.as(\"vc\").\n    join(vehicleCountsMaxForYear, vehicleCountsMaxForYear(\"year\") \u003d\u003d\u003d timeDF(\"year\") \u0026\u0026 vehicleCountsMaxForYear(\"max_vehicle_avg\") \u003d\u003d\u003d vehicleCounts(\"vehicle_avg\")).\n    select($\"vc.year\", roadsDF(\"road_name\"), vehicleCounts(\"vehicle_avg\").as(\"vehicles\")).\n    orderBy($\"vc.year\")\ntask3.createOrReplaceTempView(\"task3\")"
    },
    {
      "cell_type": "code",
      "execution_count": 6,
      "metadata": {
        "autoscroll": "auto"
      },
      "outputs": [],
      "source": "%sql\nselect * from task3"
    },
    {
      "cell_type": "code",
      "execution_count": 7,
      "metadata": {},
      "outputs": [],
      "source": "%%sql\n"
    }
  ]
}